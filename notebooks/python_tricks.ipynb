{
 "cells": [
  {
   "cell_type": "markdown",
   "metadata": {},
   "source": [
    "# Usefull Python stuff"
   ]
  },
  {
   "cell_type": "markdown",
   "metadata": {},
   "source": [
    "## Print"
   ]
  },
  {
   "cell_type": "code",
   "execution_count": 6,
   "metadata": {},
   "outputs": [
    {
     "name": "stdout",
     "output_type": "stream",
     "text": [
      "________cool________\n",
      "                cool\n",
      "cool................\n"
     ]
    }
   ],
   "source": [
    "text = \"cool\"\n",
    "print(f\"{text:_^20}\")\n",
    "print(f\"{text: >20}\")\n",
    "print(f\"{text:.<20}\")"
   ]
  },
  {
   "cell_type": "code",
   "execution_count": 20,
   "metadata": {},
   "outputs": [
    {
     "name": "stdout",
     "output_type": "stream",
     "text": [
      "1_000_000\n",
      "1,000,000\n"
     ]
    }
   ],
   "source": [
    "num = 1_000_000\n",
    "print(f\"{num:_}\")\n",
    "print(f\"{num:,}\")"
   ]
  }
 ],
 "metadata": {
  "kernelspec": {
   "display_name": "Python 3.9.11 ('mi-tutorial')",
   "language": "python",
   "name": "python3"
  },
  "language_info": {
   "codemirror_mode": {
    "name": "ipython",
    "version": 3
   },
   "file_extension": ".py",
   "mimetype": "text/x-python",
   "name": "python",
   "nbconvert_exporter": "python",
   "pygments_lexer": "ipython3",
   "version": "3.9.11"
  },
  "orig_nbformat": 4,
  "vscode": {
   "interpreter": {
    "hash": "6ce80ea5639aebdbe4d4a01cc881d9eb295672c009053aef3cd0b2c00bf71d4e"
   }
  }
 },
 "nbformat": 4,
 "nbformat_minor": 2
}
